{
 "cells": [
  {
   "cell_type": "code",
   "execution_count": 1,
   "metadata": {},
   "outputs": [
    {
     "name": "stdout",
     "output_type": "stream",
     "text": [
      "Extracting data/fashion/train-images-idx3-ubyte.gz\n",
      "Extracting data/fashion/train-labels-idx1-ubyte.gz\n",
      "Extracting data/fashion/t10k-images-idx3-ubyte.gz\n",
      "Extracting data/fashion/t10k-labels-idx1-ubyte.gz\n"
     ]
    }
   ],
   "source": [
    "import random\n",
    "import numpy as np\n",
    "import time\n",
    "import tensorflow as tf \n",
    "from tensorflow.examples.tutorials.mnist import input_data\n",
    "import math\n",
    "import pdb\n",
    "\n",
    "#mnist = input_data.read_data_sets(\"/tmp/data\",one_hot=False)\n",
    "mnist = input_data.read_data_sets('data/fashion')"
   ]
  },
  {
   "cell_type": "code",
   "execution_count": 2,
   "metadata": {
    "collapsed": true
   },
   "outputs": [],
   "source": [
    "def create_pairs(x, digit_indices):\n",
    "    '''Positive and negative pair creation.\n",
    "    Alternates between positive and negative pairs.\n",
    "    '''\n",
    "    pairs = []\n",
    "    labels = []\n",
    "    n = min([len(digit_indices[d]) for d in range(10)]) - 1\n",
    "    for d in range(10):\n",
    "        for i in range(n):\n",
    "            z1, z2 = digit_indices[d][i], digit_indices[d][i+1]\n",
    "            pairs += [[x[z1], x[z2]]]\n",
    "            inc = random.randrange(1, 10)\n",
    "            dn = (d + inc) % 10\n",
    "            z1, z2 = digit_indices[d][i], digit_indices[dn][i]\n",
    "            pairs += [[x[z1], x[z2]]]\n",
    "            labels += [1, 0]\n",
    "    return np.array(pairs), np.array(labels)"
   ]
  },
  {
   "cell_type": "code",
   "execution_count": 3,
   "metadata": {
    "collapsed": true
   },
   "outputs": [],
   "source": [
    "def mlp(input_, input_dim, output_dim, name=\"mlp\"):\n",
    "    with tf.variable_scope(name):\n",
    "        w = tf.get_variable('w',[input_dim,output_dim],tf.float32,tf.random_normal_initializer(mean = 0.001,stddev=0.02))\n",
    "        return tf.nn.relu(tf.matmul(input_,w))"
   ]
  },
  {
   "cell_type": "code",
   "execution_count": 4,
   "metadata": {
    "collapsed": true
   },
   "outputs": [],
   "source": [
    "def mlpnet(image, _dropout):\n",
    "    l1 = mlp(image,784,128,name='l1')\n",
    "    l1 = tf.nn.dropout(l1,_dropout)\n",
    "    l2 = mlp(l1,128,128,name='l2')\n",
    "    l2 = tf.nn.dropout(l2,_dropout)\n",
    "    l3 = mlp(l2,128,128,name='l3')\n",
    "    return l3"
   ]
  },
  {
   "cell_type": "code",
   "execution_count": 5,
   "metadata": {
    "collapsed": true
   },
   "outputs": [],
   "source": [
    "def build_model_mlp(X_, _dropout):\n",
    "    model = mlpnet(X_, _dropout)\n",
    "    return model"
   ]
  },
  {
   "cell_type": "code",
   "execution_count": 6,
   "metadata": {
    "collapsed": true
   },
   "outputs": [],
   "source": [
    "def contrastive_loss(y, d):\n",
    "    tmp= y *tf.square(d)\n",
    "    #tmp= tf.mul(y,tf.square(d))\n",
    "    tmp2 = (1-y) *tf.square(tf.maximum((1 - d),0))\n",
    "    return tf.reduce_sum(tmp +tmp2)/batch_size/2"
   ]
  },
  {
   "cell_type": "code",
   "execution_count": 7,
   "metadata": {
    "collapsed": true
   },
   "outputs": [],
   "source": [
    "def compute_accuracy(prediction, labels):\n",
    "    return labels[prediction.ravel() < 0.5].mean()\n",
    "    #return tf.reduce_mean(labels[prediction.ravel() < 0.5])"
   ]
  },
  {
   "cell_type": "code",
   "execution_count": 8,
   "metadata": {
    "collapsed": true
   },
   "outputs": [],
   "source": [
    "def next_batch(s, e, inputs, labels):\n",
    "    input1 = inputs[s:e, 0]\n",
    "    input2 = inputs[s:e, 1]\n",
    "    y= np.reshape(labels[s:e], (len(range(s, e)), 1))\n",
    "    return input1, input2, y"
   ]
  },
  {
   "cell_type": "code",
   "execution_count": 9,
   "metadata": {},
   "outputs": [
    {
     "name": "stdout",
     "output_type": "stream",
     "text": [
      "WARNING:tensorflow:From /opt/conda/lib/python3.6/site-packages/tensorflow/python/util/tf_should_use.py:175: initialize_all_variables (from tensorflow.python.ops.variables) is deprecated and will be removed after 2017-03-02.\n",
      "Instructions for updating:\n",
      "Use `tf.global_variables_initializer` instead.\n",
      "Epoch 0  time: 4.143482 loss 0.07571 acc 74.40\n",
      "Epoch 1  time: 4.184307 loss 0.06085 acc 80.12\n",
      "Epoch 2  time: 4.264728 loss 0.05579 acc 81.85\n",
      "Epoch 3  time: 4.107960 loss 0.05237 acc 83.73\n",
      "Epoch 4  time: 4.192192 loss 0.05106 acc 84.59\n",
      "Epoch 5  time: 4.128977 loss 0.04968 acc 85.16\n",
      "Epoch 6  time: 4.142371 loss 0.04813 acc 85.52\n",
      "Epoch 7  time: 4.124562 loss 0.04772 acc 85.90\n",
      "Epoch 8  time: 4.103594 loss 0.04609 acc 86.34\n",
      "Epoch 9  time: 4.145728 loss 0.04531 acc 86.65\n",
      "Epoch 10  time: 4.094586 loss 0.04434 acc 86.81\n",
      "Epoch 11  time: 4.112019 loss 0.04343 acc 87.08\n",
      "Epoch 12  time: 4.195542 loss 0.04311 acc 87.46\n",
      "Epoch 13  time: 4.161512 loss 0.04241 acc 87.61\n",
      "Epoch 14  time: 4.113370 loss 0.04166 acc 87.78\n",
      "Epoch 15  time: 4.119960 loss 0.04133 acc 87.90\n",
      "Epoch 16  time: 4.131351 loss 0.04097 acc 88.05\n",
      "Epoch 17  time: 4.125823 loss 0.04061 acc 88.09\n",
      "Epoch 18  time: 4.114659 loss 0.04023 acc 88.11\n",
      "Epoch 19  time: 4.130267 loss 0.04054 acc 88.04\n",
      "Epoch 20  time: 4.095570 loss 0.04009 acc 88.20\n",
      "Epoch 21  time: 4.130903 loss 0.03969 acc 88.55\n",
      "Epoch 22  time: 4.122761 loss 0.03892 acc 88.55\n",
      "Epoch 23  time: 4.108153 loss 0.03865 acc 88.74\n",
      "Epoch 24  time: 4.077726 loss 0.03911 acc 88.67\n",
      "Epoch 25  time: 4.116277 loss 0.03821 acc 88.96\n",
      "Epoch 26  time: 4.118139 loss 0.03745 acc 89.28\n",
      "Epoch 27  time: 4.053659 loss 0.03720 acc 89.32\n",
      "Epoch 28  time: 4.144075 loss 0.03722 acc 89.35\n",
      "Epoch 29  time: 4.059044 loss 0.03662 acc 89.52\n",
      "Accuracy on training set 85.81\n",
      "Accuracy on test set 84.54\n"
     ]
    }
   ],
   "source": [
    "# Initializing the variables:\n",
    "init = tf.global_variables_initializer()\n",
    "\n",
    "# the data, shuffled and split between train and test sets:\n",
    "X_train = mnist.train._images\n",
    "y_train = mnist.train._labels\n",
    "X_test = mnist.test._images\n",
    "y_test = mnist.test._labels\n",
    "batch_size = 128\n",
    "global_step = tf.Variable(0, trainable=False)\n",
    "starter_learning_rate = 0.001\n",
    "learning_rate = tf.train.exponential_decay(starter_learning_rate, global_step, 10, 0.1,  staircase=True)\n",
    "\n",
    "# create training+test positive and negative pairs:\n",
    "digit_indices = [np.where(y_train == i)[0] for i in range(10)]\n",
    "tr_pairs, tr_y = create_pairs(X_train, digit_indices)\n",
    "digit_indices = [np.where(y_test == i)[0] for i in range(10)]\n",
    "te_pairs, te_y = create_pairs(X_test, digit_indices)\n",
    "\n",
    "images_L = tf.placeholder(tf.float32,shape=([None,784]),name='L')\n",
    "images_R = tf.placeholder(tf.float32,shape=([None,784]),name='R')\n",
    "labels = tf.placeholder(tf.float32,shape=([None,1]),name='gt')\n",
    "dropout_f = tf.placeholder(\"float\")\n",
    "\n",
    "with tf.variable_scope(\"siamese\") as scope:\n",
    "    model1 = build_model_mlp(images_L, dropout_f)\n",
    "    scope.reuse_variables()\n",
    "    model2 = build_model_mlp(images_R, dropout_f)\n",
    "\n",
    "distance  = tf.sqrt(tf.reduce_sum(tf.pow(tf.subtract(model1,model2),2),1,keep_dims=True))\n",
    "loss = contrastive_loss(labels,distance)\n",
    "\n",
    "# contrastice loss:\n",
    "t_vars = tf.trainable_variables()\n",
    "d_vars  = [var for var in t_vars if 'l' in var.name]\n",
    "batch = tf.Variable(0)\n",
    "optimizer = tf.train.AdamOptimizer(learning_rate = 0.0001).minimize(loss)\n",
    "#optimizer = tf.train.RMSPropOptimizer(0.0001,momentum=0.9,epsilon=1e-6).minimize(loss)\n",
    "\n",
    "# Launch the graph:\n",
    "with tf.Session() as sess:\n",
    "    #sess.run(init)\n",
    "    tf.initialize_all_variables().run()\n",
    "    # Training cycle:\n",
    "    for epoch in range(30):\n",
    "        avg_loss = 0.\n",
    "        avg_acc = 0.\n",
    "        total_batch = int(X_train.shape[0]/batch_size)\n",
    "        start_time = time.time()\n",
    "        # Loop over all batches:\n",
    "        for i in range(total_batch):\n",
    "            s = i * batch_size\n",
    "            e = (i+1) * batch_size\n",
    "            # Fit training using batch data:\n",
    "            input1, input2, y = next_batch(s, e, tr_pairs, tr_y)\n",
    "            _, loss_value, predict = sess.run([optimizer, loss, distance], feed_dict={images_L:input1, images_R:input2, labels:y, dropout_f:0.9})\n",
    "            feature1 = model1.eval(feed_dict={images_L:input1, dropout_f:0.9})\n",
    "            feature2 = model2.eval(feed_dict={images_R:input2, dropout_f:0.9})\n",
    "            tr_acc = compute_accuracy(predict, y)\n",
    "            if math.isnan(tr_acc) and epoch != 0:\n",
    "                print('tr_acc %0.2f' % tr_acc)\n",
    "                pdb.set_trace()\n",
    "            avg_loss += loss_value\n",
    "            avg_acc += tr_acc*100\n",
    "        #print('epoch %d loss %0.2f' %(epoch,avg_loss/total_batch))\n",
    "        duration = time.time() - start_time\n",
    "        print('Epoch %d  time: %f loss %0.5f acc %0.2f' %(epoch, duration, avg_loss/(total_batch), avg_acc/total_batch))\n",
    "    y = np.reshape(tr_y, (tr_y.shape[0], 1))\n",
    "    predict = distance.eval(feed_dict={images_L:tr_pairs[:, 0], images_R:tr_pairs[:, 1], labels:y, dropout_f:1.0})\n",
    "    tr_acc = compute_accuracy(predict, y)\n",
    "    print('Accuracy on training set %0.2f' % (100 * tr_acc))\n",
    "\n",
    "    # Test model:\n",
    "    predict = distance.eval(feed_dict={images_L:te_pairs[:, 0], images_R:te_pairs[:, 1], labels:y, dropout_f:1.0})\n",
    "    y = np.reshape(te_y, (te_y.shape[0], 1))\n",
    "    te_acc = compute_accuracy(predict, y)\n",
    "print('Accuracy on test set %0.2f' % (100 * te_acc))"
   ]
  },
  {
   "cell_type": "code",
   "execution_count": null,
   "metadata": {
    "collapsed": true
   },
   "outputs": [],
   "source": []
  }
 ],
 "metadata": {
  "kernelspec": {
   "display_name": "Python 3",
   "language": "python",
   "name": "python3"
  },
  "language_info": {
   "codemirror_mode": {
    "name": "ipython",
    "version": 3
   },
   "file_extension": ".py",
   "mimetype": "text/x-python",
   "name": "python",
   "nbconvert_exporter": "python",
   "pygments_lexer": "ipython3",
   "version": "3.6.2"
  }
 },
 "nbformat": 4,
 "nbformat_minor": 2
}
